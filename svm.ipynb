{
 "cells": [
  {
   "cell_type": "code",
   "execution_count": 58,
   "metadata": {
    "collapsed": false
   },
   "outputs": [
    {
     "data": {
      "text/plain": [
       "GridSearchCV(cv=sklearn.cross_validation.KFold(n=1786, n_folds=5, shuffle=True, random_state=241),\n",
       "       error_score='raise',\n",
       "       estimator=SVC(C=1.0, cache_size=200, class_weight=None, coef0=0.0,\n",
       "  decision_function_shape=None, degree=3, gamma='auto', kernel='linear',\n",
       "  max_iter=-1, probability=False, random_state=241, shrinking=True,\n",
       "  tol=0.001, verbose=False),\n",
       "       fit_params={}, iid=True, n_jobs=1,\n",
       "       param_grid={'C': array([  1.00000e-05,   1.00000e-04,   1.00000e-03,   1.00000e-02,\n",
       "         1.00000e-01,   1.00000e+00,   1.00000e+01,   1.00000e+02,\n",
       "         1.00000e+03,   1.00000e+04,   1.00000e+05])},\n",
       "       pre_dispatch='2*n_jobs', refit=True, scoring='accuracy', verbose=0)"
      ]
     },
     "execution_count": 58,
     "metadata": {},
     "output_type": "execute_result"
    }
   ],
   "source": [
    "import numpy as np\n",
    "import pandas as pd\n",
    "from sklearn import grid_search\n",
    "from sklearn import datasets\n",
    "from sklearn.feature_extraction.text import TfidfVectorizer\n",
    "from sklearn.svm import SVC\n",
    "from sklearn.cross_validation import KFold\n",
    "newsgroups = datasets.fetch_20newsgroups(subset='all', categories=['alt.atheism', 'sci.space'])\n",
    "vectorizer = TfidfVectorizer()\n",
    "X=newsgroups.data\n",
    "y=newsgroups.target\n",
    "wtfMatrix = vectorizer.fit_transform(X, y)\n",
    "\n",
    "grid = {'C': np.power(10.0, np.arange(-5, 6))}\n",
    "cv = KFold(y.size, n_folds=5, shuffle=True, random_state=241)\n",
    "clf = SVC(kernel='linear', random_state=241)\n",
    "gs = grid_search.GridSearchCV(clf, grid, scoring='accuracy', cv=cv)\n",
    "gs.fit(wtfMatrix, y)\n"
   ]
  },
  {
   "cell_type": "code",
   "execution_count": 62,
   "metadata": {
    "collapsed": false
   },
   "outputs": [
    {
     "data": {
      "text/plain": [
       "SVC(C=10, cache_size=200, class_weight=None, coef0=0.0,\n",
       "  decision_function_shape=None, degree=3, gamma='auto', kernel='linear',\n",
       "  max_iter=-1, probability=False, random_state=241, shrinking=True,\n",
       "  tol=0.001, verbose=False)"
      ]
     },
     "execution_count": 62,
     "metadata": {},
     "output_type": "execute_result"
    }
   ],
   "source": [
    "coolClassificator = SVC(kernel='linear', random_state=241, C=10)\n",
    "coolClassificator.fit(wtfMatrix, y)"
   ]
  },
  {
   "cell_type": "code",
   "execution_count": 81,
   "metadata": {
    "collapsed": false
   },
   "outputs": [
    {
     "name": "stdout",
     "output_type": "stream",
     "text": [
      "[ 4145 17501 16825 17014 17615  8922 17124 17528 18171 16772]\n",
      "[18430 15606  5776 21850 23673 17802  5093  5088 12871 24019]\n",
      "['nick' 'keith' 'bible' 'religion' 'sky' 'moon' 'atheists' 'atheism' 'god'\n",
      " 'space']\n",
      "['atheism' 'atheists' 'bible' 'god' 'keith' 'moon' 'nick' 'religion' 'sky'\n",
      " 'space']\n"
     ]
    }
   ],
   "source": [
    "coefs = coolClassificator.coef_\n",
    "resNumber=np.argsort(np.abs(coolClassificator.coef_.data))[-10:]\n",
    "print(resNumber)\n",
    "res = coolClassificator.coef_.indices[resNumber]\n",
    "print(res)\n",
    "words = np.array(vectorizer.get_feature_names())[res]\n",
    "print(words)\n",
    "words = np.sort(words)\n",
    "print(words)\n",
    "with open(r\"D:/out.txt\", \"w\") as file:\n",
    "    file.write(str(words))"
   ]
  }
 ],
 "metadata": {
  "kernelspec": {
   "display_name": "Python 3",
   "language": "python",
   "name": "python3"
  },
  "language_info": {
   "codemirror_mode": {
    "name": "ipython",
    "version": 3
   },
   "file_extension": ".py",
   "mimetype": "text/x-python",
   "name": "python",
   "nbconvert_exporter": "python",
   "pygments_lexer": "ipython3",
   "version": "3.5.1"
  }
 },
 "nbformat": 4,
 "nbformat_minor": 0
}
