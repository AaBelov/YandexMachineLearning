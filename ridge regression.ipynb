{
 "cells": [
  {
   "cell_type": "code",
   "execution_count": 57,
   "metadata": {
    "collapsed": false
   },
   "outputs": [],
   "source": [
    "from sklearn.feature_extraction.text import TfidfVectorizer\n",
    "from sklearn.linear_model import Ridge\n",
    "from sklearn.feature_extraction import DictVectorizer\n",
    "import pandas as pd\n",
    "import scipy\n",
    "data_train = pd.read_csv(\"Downloads/salary-train.csv\")\n",
    "data_test = pd.read_csv(\"Downloads/salary-test-mini.csv\")\n",
    "enc = DictVectorizer()\n",
    "data_train['LocationNormalized'].fillna('nan', inplace=True)\n",
    "data_train['ContractTime'].fillna('nan', inplace=True)\n",
    "data_test['LocationNormalized'].fillna('nan', inplace=True)\n",
    "data_test['ContractTime'].fillna('nan', inplace=True)\n",
    "X_train_categ = enc.fit_transform(data_train[['LocationNormalized', 'ContractTime']].to_dict('records'))\n",
    "X_test_categ = enc.transform(data_test[['LocationNormalized', 'ContractTime']].to_dict('records'))\n",
    "\n",
    "vectorizer = TfidfVectorizer(min_df=5)\n",
    "train_descr = data_train.FullDescription.str.lower().replace('[^a-zA-Z0-9]', ' ', regex = True)\n",
    "test_descr = data_test.FullDescription.str.lower().replace('[^a-zA-Z0-9]', ' ', regex = True)\n",
    "train_vect_descr = vectorizer.fit_transform(train_descr)\n",
    "test_vect_descr = vectorizer.transform(test_descr)\n",
    "\n",
    "y_train = data_train.SalaryNormalized\n",
    "\n",
    "train_data_prep = scipy.sparse.hstack([train_vect_descr, X_train_categ])\n",
    "test_data_prep = scipy.sparse.hstack([test_vect_descr, X_test_categ])"
   ]
  },
  {
   "cell_type": "code",
   "execution_count": 59,
   "metadata": {
    "collapsed": false
   },
   "outputs": [
    {
     "data": {
      "text/plain": [
       "Ridge(alpha=1, copy_X=True, fit_intercept=True, max_iter=None,\n",
       "   normalize=False, random_state=None, solver='auto', tol=0.001)"
      ]
     },
     "execution_count": 59,
     "metadata": {},
     "output_type": "execute_result"
    }
   ],
   "source": [
    "cl = Ridge(alpha = 1)\n",
    "cl.fit(train_data_prep, y_train)"
   ]
  },
  {
   "cell_type": "code",
   "execution_count": 61,
   "metadata": {
    "collapsed": false
   },
   "outputs": [
    {
     "name": "stdout",
     "output_type": "stream",
     "text": [
      "[ 56558.98257091  37186.30126452]\n",
      "0   NaN\n",
      "1   NaN\n",
      "Name: SalaryNormalized, dtype: float64\n"
     ]
    }
   ],
   "source": [
    "print(cl.predict(test_data_prep))"
   ]
  }
 ],
 "metadata": {
  "kernelspec": {
   "display_name": "Python 3",
   "language": "python",
   "name": "python3"
  },
  "language_info": {
   "codemirror_mode": {
    "name": "ipython",
    "version": 3
   },
   "file_extension": ".py",
   "mimetype": "text/x-python",
   "name": "python",
   "nbconvert_exporter": "python",
   "pygments_lexer": "ipython3",
   "version": "3.5.1"
  }
 },
 "nbformat": 4,
 "nbformat_minor": 0
}
