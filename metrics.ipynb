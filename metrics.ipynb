{
 "cells": [
  {
   "cell_type": "code",
   "execution_count": 26,
   "metadata": {
    "collapsed": false
   },
   "outputs": [
    {
     "name": "stdout",
     "output_type": "stream",
     "text": [
      "0.535 0.558441558442 0.421568627451 0.480446927374 \n",
      " [[43 59]\n",
      " [34 64]]\n"
     ]
    }
   ],
   "source": [
    "import pandas as pd\n",
    "from sklearn import metrics\n",
    "d = pd.read_csv(\"Downloads/_8b9c6d9ae39e206610c6fd96894615a5_classification.csv\")\n",
    "acc = metrics.accuracy_score(d.true, d.pred)\n",
    "pre = metrics.precision_score(d.true, d.pred)\n",
    "rec = metrics.recall_score(d.true, d.pred)\n",
    "f = metrics.f1_score(d.true, d.pred)\n",
    "matrix = metrics.confusion_matrix(y_true = d.true, y_pred = d.pred, labels=[1, 0])\n",
    "print(acc, pre, rec, f, \"\\n\", matrix)"
   ]
  },
  {
   "cell_type": "code",
   "execution_count": 38,
   "metadata": {
    "collapsed": false
   },
   "outputs": [
    {
     "name": "stdout",
     "output_type": "stream",
     "text": [
      "0.71918767507 0.708683473389 0.635154061625 0.691926770708\n",
      "0.63025210084 0.622807017544 0.606557377049 0.651785714286\n"
     ]
    }
   ],
   "source": [
    "import pandas as pd\n",
    "import numpy as np\n",
    "from sklearn import metrics\n",
    "d = pd.read_csv(\"Downloads/_eee1b9e8188f61bc35d954fbeb94e325_scores.csv\")\n",
    "roc_logreg = metrics.roc_auc_score(d.true, d.score_logreg)\n",
    "roc_svm = metrics.roc_auc_score(d.true, d.score_svm)\n",
    "roc_knn = metrics.roc_auc_score(d.true, d.score_knn)\n",
    "roc_tree = metrics.roc_auc_score(d.true, d.score_tree)\n",
    "print(roc_logreg, roc_svm, roc_knn, roc_tree)\n",
    "logreg_pre, logreg_rec, logreg_tr = metrics.precision_recall_curve(d.true, d.score_logreg)\n",
    "svm_pre, svm_rec, svm_tr = metrics.precision_recall_curve(d.true, d.score_svm)\n",
    "knn_pre, knn_rec, knn_tr = metrics.precision_recall_curve(d.true, d.score_knn)\n",
    "tree_pre, tree_rec, tree_tr = metrics.precision_recall_curve(d.true, d.score_tree)\n",
    "logreg_max_pre = max(logreg_pre[np.where(logreg_rec > 0.7)[0]])\n",
    "svm_max_pre = max(svm_pre[np.where(svm_rec > 0.7)[0]])\n",
    "knn_max_pre = max(knn_pre[np.where(knn_rec > 0.7)[0]])\n",
    "tree_max_pre = max(tree_pre[np.where(tree_rec > 0.7)[0]])\n",
    "print(logreg_max_pre, svm_max_pre, knn_max_pre, tree_max_pre)"
   ]
  }
 ],
 "metadata": {
  "kernelspec": {
   "display_name": "Python 3",
   "language": "python",
   "name": "python3"
  },
  "language_info": {
   "codemirror_mode": {
    "name": "ipython",
    "version": 3
   },
   "file_extension": ".py",
   "mimetype": "text/x-python",
   "name": "python",
   "nbconvert_exporter": "python",
   "pygments_lexer": "ipython3",
   "version": "3.5.1"
  }
 },
 "nbformat": 4,
 "nbformat_minor": 0
}
