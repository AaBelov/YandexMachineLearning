{
 "cells": [
  {
   "cell_type": "code",
   "execution_count": 8,
   "metadata": {
    "collapsed": false
   },
   "outputs": [
    {
     "name": "stdout",
     "output_type": "stream",
     "text": [
      "      Iter       Train Loss   Remaining Time \n",
      "         1           1.0190           17.69s\n",
      "         2           0.9192           18.86s\n",
      "         3           0.8272           17.71s\n",
      "         4           0.7834           16.86s\n",
      "         5           0.7109           16.52s\n",
      "         6           0.6368           16.77s\n",
      "         7           0.5797           16.64s\n",
      "         8           0.5610           16.16s\n",
      "         9           0.5185           15.94s\n",
      "        10           0.4984           15.59s\n",
      "        20           0.1999           14.42s\n",
      "        30           0.1313           13.19s\n",
      "        40           0.0790           12.55s\n",
      "        50           0.0511           11.80s\n",
      "        60           0.0352           11.17s\n",
      "        70           0.0245           10.48s\n",
      "        80           0.0162            9.86s\n",
      "        90           0.0114            9.23s\n",
      "       100           0.0077            8.65s\n",
      "       200           0.0004            2.72s\n",
      "      Iter       Train Loss   Remaining Time \n",
      "         1           1.1255           18.19s\n",
      "         2           1.0035           18.61s\n",
      "         3           0.9386           19.69s\n",
      "         4           0.8844           18.71s\n",
      "         5           0.8381           18.54s\n",
      "         6           0.7995           18.44s\n",
      "         7           0.7559           18.06s\n",
      "         8           0.7205           17.95s\n",
      "         9           0.6958           17.44s\n",
      "        10           0.6725           17.34s\n",
      "        20           0.4672           15.25s\n",
      "        30           0.3179           14.13s\n",
      "        40           0.2274           13.30s\n",
      "        50           0.1774           12.44s\n",
      "        60           0.1394           11.71s\n",
      "        70           0.1050           11.07s\n",
      "        80           0.0805           10.41s\n",
      "        90           0.0650            9.70s\n",
      "       100           0.0511            9.16s\n",
      "       200           0.0058            3.02s\n",
      "      Iter       Train Loss   Remaining Time \n",
      "         1           1.2095           22.92s\n",
      "         2           1.1006           20.97s\n",
      "         3           1.0240           20.43s\n",
      "         4           0.9729           19.94s\n",
      "         5           0.9387           19.12s\n",
      "         6           0.8948           19.21s\n",
      "         7           0.8621           18.76s\n",
      "         8           0.8360           18.47s\n",
      "         9           0.8171           18.03s\n",
      "        10           0.7883           18.06s\n",
      "        20           0.6164           15.72s\n",
      "        30           0.4933           14.41s\n",
      "        40           0.4248           13.17s\n",
      "        50           0.3345           12.48s\n",
      "        60           0.2760           11.72s\n",
      "        70           0.2263           11.09s\n",
      "        80           0.1971           10.32s\n",
      "        90           0.1693            9.65s\n",
      "       100           0.1388            9.09s\n",
      "       200           0.0294            2.98s\n",
      "      Iter       Train Loss   Remaining Time \n",
      "         1           1.2613           18.44s\n",
      "         2           1.1715           18.49s\n",
      "         3           1.1009           19.61s\n",
      "         4           1.0529           19.33s\n",
      "         5           1.0130           19.12s\n",
      "         6           0.9740           18.96s\n",
      "         7           0.9475           18.20s\n",
      "         8           0.9197           18.28s\n",
      "         9           0.8979           17.98s\n",
      "        10           0.8730           17.87s\n",
      "        20           0.7207           15.28s\n",
      "        30           0.6055           13.99s\n",
      "        40           0.5244           13.04s\n",
      "        50           0.4501           12.26s\n",
      "        60           0.3908           11.57s\n",
      "        70           0.3372           10.92s\n",
      "        80           0.3009           10.36s\n",
      "        90           0.2603            9.85s\n",
      "       100           0.2327            9.16s\n",
      "       200           0.0835            2.96s\n",
      "      Iter       Train Loss   Remaining Time \n",
      "         1           1.3199           18.69s\n",
      "         2           1.2645           19.61s\n",
      "         3           1.2170           19.36s\n",
      "         4           1.1775           19.20s\n",
      "         5           1.1404           19.03s\n",
      "         6           1.1106           19.09s\n",
      "         7           1.0844           18.93s\n",
      "         8           1.0617           18.86s\n",
      "         9           1.0411           18.78s\n",
      "        10           1.0223           18.85s\n",
      "        20           0.8864           16.76s\n",
      "        30           0.7844           15.11s\n",
      "        40           0.7176           13.86s\n",
      "        50           0.6590           12.85s\n",
      "        60           0.6120           12.00s\n",
      "        70           0.5599           11.29s\n",
      "        80           0.5242           10.54s\n",
      "        90           0.4829            9.88s\n",
      "       100           0.4473            9.22s\n",
      "       200           0.2379            3.01s\n"
     ]
    },
    {
     "data": {
      "image/png": "[encoded data removed]",
      "text/plain": [
       "<matplotlib.figure.Figure at 0x9156d29e10>"
      ]
     },
     "metadata": {},
     "output_type": "display_data"
    }
   ],
   "source": [
    "import pandas as pd\n",
    "import numpy as np\n",
    "import sklearn\n",
    "from sklearn.cross_validation import train_test_split\n",
    "from sklearn.ensemble import GradientBoostingClassifier, RandomForestClassifier\n",
    "from sklearn.metrics import log_loss\n",
    "from sklearn.grid_search import GridSearchCV\n",
    "import matplotlib.pyplot as plt\n",
    "\n",
    "d = pd.read_csv(\"Downloads/gbm_data.csv\")\n",
    "y = d.ix[:, 0]\n",
    "X = d.ix[:, 1:]\n",
    "\n",
    "X_train, X_test, y_train, y_test = train_test_split(X, y, test_size=0.8, random_state=241)\n",
    "\n",
    "scores_test = []\n",
    "scores_train = []\n",
    "\n",
    "for i in [1, 0.5, 0.3, 0.2, 0.1]:\n",
    "    gbc = GradientBoostingClassifier(n_estimators=250, verbose=True, random_state=241, learning_rate=i)\n",
    "    gbc.fit(X_train, y_train)\n",
    "    for i, pred in enumerate(gbc.staged_decision_function(X_test)):\n",
    "        scores_test.append(log_loss(y_test, 1 / (1 + np.exp(-pred))))\n",
    "\n",
    "    for i, pred in enumerate(gbc.staged_decision_function(X_train)):\n",
    "        scores_train.append(log_loss(y_train, 1 / (1 + np.exp(-pred))))\n",
    "\n",
    "    %matplotlib inline\n",
    "    plt.figure()\n",
    "    plt.plot(scores_test, 'r', linewidth=2)\n",
    "    plt.plot(scores_train, 'g', linewidth=2)\n",
    "    plt.legend(['test', 'train'])"
   ]
  },
  {
   "cell_type": "code",
   "execution_count": 10,
   "metadata": {
    "collapsed": false
   },
   "outputs": [
    {
     "name": "stdout",
     "output_type": "stream",
     "text": [
      "      Iter       Train Loss   Remaining Time \n",
      "         1           1.2613           19.68s\n",
      "         2           1.1715           19.11s\n",
      "         3           1.1009           18.95s\n",
      "         4           1.0529           18.83s\n",
      "         5           1.0130           18.73s\n",
      "         6           0.9740           18.60s\n",
      "         7           0.9475           17.96s\n",
      "         8           0.9197           17.95s\n",
      "         9           0.8979           17.44s\n",
      "        10           0.8730           17.39s\n",
      "        20           0.7207           14.97s\n",
      "        30           0.6055           13.94s\n",
      "        40           0.5244           13.01s\n",
      "        50           0.4501           12.26s\n",
      "        60           0.3908           11.78s\n",
      "        70           0.3372           11.13s\n",
      "        80           0.3009           10.48s\n",
      "        90           0.2603            9.86s\n",
      "       100           0.2327            9.19s\n",
      "       200           0.0835            2.97s\n"
     ]
    },
    {
     "ename": "TypeError",
     "evalue": "object of type 'numpy.float64' has no len()",
     "output_type": "error",
     "traceback": [
      "\u001b[1;31m---------------------------------------------------------------------------\u001b[0m",
      "\u001b[1;31mTypeError\u001b[0m                                 Traceback (most recent call last)",
      "\u001b[1;32m<ipython-input-10-eee571a48c0e>\u001b[0m in \u001b[0;36m<module>\u001b[1;34m()\u001b[0m\n\u001b[0;32m      5\u001b[0m \u001b[0mmin_log_loss\u001b[0m \u001b[1;33m=\u001b[0m \u001b[0mnp\u001b[0m\u001b[1;33m.\u001b[0m\u001b[0mmin\u001b[0m\u001b[1;33m(\u001b[0m\u001b[0mres\u001b[0m\u001b[1;33m)\u001b[0m\u001b[1;33m\u001b[0m\u001b[0m\n\u001b[0;32m      6\u001b[0m \u001b[0mmin_log_loss_index\u001b[0m \u001b[1;33m=\u001b[0m \u001b[0mnp\u001b[0m\u001b[1;33m.\u001b[0m\u001b[0margmin\u001b[0m\u001b[1;33m(\u001b[0m\u001b[0mres\u001b[0m\u001b[1;33m)\u001b[0m\u001b[1;33m\u001b[0m\u001b[0m\n\u001b[1;32m----> 7\u001b[1;33m \u001b[0mprint\u001b[0m\u001b[1;33m(\u001b[0m\u001b[0mmin_log_loss\u001b[0m\u001b[1;33m,\u001b[0m \u001b[0mmin_log_loss_index\u001b[0m\u001b[1;33m,\u001b[0m \u001b[0mlen\u001b[0m\u001b[1;33m(\u001b[0m\u001b[0mres\u001b[0m\u001b[1;33m)\u001b[0m\u001b[1;33m)\u001b[0m\u001b[1;33m\u001b[0m\u001b[0m\n\u001b[0m",
      "\u001b[1;31mTypeError\u001b[0m: object of type 'numpy.float64' has no len()"
     ]
    }
   ],
   "source": [
    "gbc = GradientBoostingClassifier(n_estimators=250, verbose=True, random_state=241, learning_rate=0.2)\n",
    "gbc.fit(X_train, y_train)\n"
   ]
  },
  {
   "cell_type": "code",
   "execution_count": 15,
   "metadata": {
    "collapsed": false
   },
   "outputs": [
    {
     "name": "stdout",
     "output_type": "stream",
     "text": [
      "0.530918156803 36 250\n"
     ]
    }
   ],
   "source": [
    "scores_test = []\n",
    "for i, pred in enumerate(gbc.staged_decision_function(X_test)):\n",
    "        scores_test.append(log_loss(y_test, 1 / (1 + np.exp(-pred))))\n",
    "\n",
    "min_log_loss = np.min(scores_test)\n",
    "min_log_loss_index = np.argmin(scores_test)\n",
    "print(min_log_loss, min_log_loss_index, len(scores_test))"
   ]
  },
  {
   "cell_type": "code",
   "execution_count": 18,
   "metadata": {
    "collapsed": false
   },
   "outputs": [
    {
     "name": "stderr",
     "output_type": "stream",
     "text": [
      "[Parallel(n_jobs=1)]: Done  36 out of  36 | elapsed:    0.0s finished\n",
      "[Parallel(n_jobs=1)]: Done  36 out of  36 | elapsed:    0.0s finished\n"
     ]
    },
    {
     "data": {
      "text/plain": [
       "0.54138128618040693"
      ]
     },
     "execution_count": 18,
     "metadata": {},
     "output_type": "execute_result"
    }
   ],
   "source": [
    "rfc = RandomForestClassifier(n_estimators=36, verbose=True, random_state=241)\n",
    "rfc.fit(X_train, y_train)\n",
    "y_pred = rfc.predict_proba(X_test)\n",
    "log_loss(y_test, y_pred)"
   ]
  }
 ],
 "metadata": {
  "kernelspec": {
   "display_name": "Python 3",
   "language": "python",
   "name": "python3"
  },
  "language_info": {
   "codemirror_mode": {
    "name": "ipython",
    "version": 3
   },
   "file_extension": ".py",
   "mimetype": "text/x-python",
   "name": "python",
   "nbconvert_exporter": "python",
   "pygments_lexer": "ipython3",
   "version": "3.5.1"
  }
 },
 "nbformat": 4,
 "nbformat_minor": 0
}
