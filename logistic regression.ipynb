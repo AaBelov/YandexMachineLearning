{
 "cells": [
  {
   "cell_type": "code",
   "execution_count": 48,
   "metadata": {
    "collapsed": false
   },
   "outputs": [],
   "source": [
    "import pandas as pd\n",
    "import numpy as np\n",
    "\n",
    "data = pd.read_csv(\"Downloads/data_logistic.csv\", header=None)\n",
    "X=data.ix[:,1:]\n",
    "y=data.ix[:,0]\n",
    "w1=0\n",
    "w2=0\n",
    "k=0.1\n",
    "l=len(X)\n",
    "c=10\n",
    "d1=0\n",
    "d2=0\n",
    "n=1\n",
    "while (n <=10000):\n",
    "    d1=0\n",
    "    d2=0\n",
    "    for i in range(0,len(X-1)):\n",
    "        m = (1-1/(1+np.exp(-y[i]*(w1*X.ix[i,1] + w2*X.ix[i,2]))))\n",
    "        d1 = d1 + k/l*y[i]*X.ix[i,1]*m\n",
    "        d2 = d2 + k/l*y[i]*X.ix[i,2]*m\n",
    "    d1 = d1 - c*k*w1\n",
    "    d2 = d2 - c*k*w2\n",
    "    if(np.sqrt(d1*d1 + d2*d2) < 1e-5):\n",
    "        break\n",
    "    w1 = w1 + d1\n",
    "    w2 = w2 + d2\n",
    "    n = n + 1\n",
    "res = list()\n",
    "for i in range(0, len(X)):\n",
    "    res.append(1/(1+np.exp(-w1*X.ix[i,1] - w2*X.ix[i,2])))"
   ]
  },
  {
   "cell_type": "code",
   "execution_count": 49,
   "metadata": {
    "collapsed": false
   },
   "outputs": [
    {
     "name": "stdout",
     "output_type": "stream",
     "text": [
      "0.028561965517 0.0247836554364 0.936285714286\n"
     ]
    }
   ],
   "source": [
    "y=data.ix[:,0]\n",
    "from sklearn import metrics\n",
    "reg = metrics.roc_auc_score(y, res)\n",
    "print(w1, w2, reg)"
   ]
  }
 ],
 "metadata": {
  "kernelspec": {
   "display_name": "Python 3",
   "language": "python",
   "name": "python3"
  },
  "language_info": {
   "codemirror_mode": {
    "name": "ipython",
    "version": 3
   },
   "file_extension": ".py",
   "mimetype": "text/x-python",
   "name": "python",
   "nbconvert_exporter": "python",
   "pygments_lexer": "ipython3",
   "version": "3.5.1"
  }
 },
 "nbformat": 4,
 "nbformat_minor": 0
}
