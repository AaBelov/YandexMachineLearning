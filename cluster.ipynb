{
 "cells": [
  {
   "cell_type": "code",
   "execution_count": 162,
   "metadata": {
    "collapsed": false
   },
   "outputs": [
    {
     "name": "stdout",
     "output_type": "stream",
     "text": [
      "1 9.86639473003 9.50345176791\n",
      "2 12.1450144894 11.7227475508\n",
      "3 13.2081123621 12.6883899134\n",
      "4 14.4163028381 14.0548998866\n",
      "5 15.5908773714 15.2488696906\n",
      "6 16.6066369627 16.1154974417\n",
      "7 17.6989010472 17.3997303195\n",
      "8 18.4845821212 18.179628991\n",
      "9 19.166784755 18.8779052717\n",
      "10 19.6967425824 19.4702552578\n",
      "11 20.1824248736 19.9051500033\n",
      "12 20.651884151 20.3609362314\n",
      "13 21.0770050834 20.8570424354\n",
      "14 21.3532203558 21.1131283775\n",
      "15 21.6335356887 21.3978426786\n",
      "16 21.9185789256 21.733386256\n",
      "17 22.1771748588 21.9777875681\n",
      "18 22.3893640174 22.1967653093\n",
      "19 22.5767839227 22.4168867289\n",
      "20 22.7720647155 22.620605214\n"
     ]
    }
   ],
   "source": [
    "import skimage\n",
    "from skimage.io import imread\n",
    "from skimage.io import imshow\n",
    "from skimage.io import show\n",
    "import numpy as np\n",
    "from sklearn.cluster import KMeans\n",
    "import matplotlib.pyplot as plt\n",
    "\n",
    "image = imread(\"Downloads/parrots.jpg\")\n",
    "float_image = skimage.img_as_float(image)\n",
    "\n",
    "x, y, z = float_image.shape\n",
    "objects_features_matrix = np.reshape(float_image, (x * y, z))\n",
    "for cluster_number in np.arange(1, 21):\n",
    "    cls = KMeans(n_clusters=cluster_number, init='k-means++', random_state=241)\n",
    "    cls.fit(objects_features_matrix)\n",
    "\n",
    "    labels = cls.labels_\n",
    "    mean_clustered_image = objects_features_matrix.copy()\n",
    "    median_clustered_image = objects_features_matrix.copy()\n",
    "    for i in np.arange(0, cls.n_clusters):\n",
    "        mean_clustered_image[np.where(labels == i), 0] = np.mean(mean_clustered_image[np.where(labels == i)][:,0])\n",
    "        mean_clustered_image[np.where(labels == i), 1] = np.mean(mean_clustered_image[np.where(labels == i)][:,1])\n",
    "        mean_clustered_image[np.where(labels == i), 2] = np.mean(mean_clustered_image[np.where(labels == i)][:,2])\n",
    "\n",
    "        median_clustered_image[np.where(labels == i), 0] = np.median(median_clustered_image[np.where(labels == i)][:,0])\n",
    "        median_clustered_image[np.where(labels == i), 1] = np.median(median_clustered_image[np.where(labels == i)][:,1])\n",
    "        median_clustered_image[np.where(labels == i), 2] = np.median(median_clustered_image[np.where(labels == i)][:,2])\n",
    "\n",
    "    mean_cluster_MSE_R = 0\n",
    "    mean_cluster_MSE_G = 0\n",
    "    mean_cluster_MSE_B = 0\n",
    "    median_cluster_MSE_R = 0\n",
    "    median_cluster_MSE_G = 0\n",
    "    median_cluster_MSE_B = 0\n",
    "    for i in np.arange(0, len(objects_features_matrix)):\n",
    "        mean_cluster_MSE_R += + np.square(abs(objects_features_matrix[i, 0] - mean_clustered_image[i, 0]))\n",
    "        mean_cluster_MSE_G += + np.square(abs(objects_features_matrix[i, 1] - mean_clustered_image[i, 1]))\n",
    "        mean_cluster_MSE_B += + np.square(abs(objects_features_matrix[i, 2] - mean_clustered_image[i, 2]))\n",
    "\n",
    "        median_cluster_MSE_R += + np.square(abs(objects_features_matrix[i, 0] - median_clustered_image[i, 0]))\n",
    "        median_cluster_MSE_G += + np.square(abs(objects_features_matrix[i, 1] - median_clustered_image[i, 1]))\n",
    "        median_cluster_MSE_B += + np.square(abs(objects_features_matrix[i, 2] - median_clustered_image[i, 2]))\n",
    "\n",
    "    mean_cluster_MSE = 1.0/(len(objects_features_matrix) * 3)*(mean_cluster_MSE_R + mean_cluster_MSE_G + mean_cluster_MSE_B)\n",
    "    mean_cluster_PSNR = -10*np.log10(mean_cluster_MSE)\n",
    "\n",
    "    median_cluster_MSE = 1.0/(len(objects_features_matrix) * 3)*(median_cluster_MSE_R + median_cluster_MSE_G + median_cluster_MSE_B)\n",
    "    median_cluster_PSNR = -10*np.log10(median_cluster_MSE)\n",
    "\n",
    "    print(cls.n_clusters, mean_cluster_PSNR, median_cluster_PSNR)"
   ]
  },
  {
   "cell_type": "code",
   "execution_count": 163,
   "metadata": {
    "collapsed": false
   },
   "outputs": [],
   "source": [
    "\n",
    "mean_clustered_image = mean_clustered_image.reshape(x, y, z)\n",
    "median_clustered_image = median_clustered_image.reshape(x, y, z)\n",
    "f, ax = plt.subplots(1, 2)\n",
    "ax[0].imshow(mean_clustered_image)\n",
    "ax[1].imshow(median_clustered_image)\n",
    "plt.show()"
   ]
  },
  {
   "cell_type": "code",
   "execution_count": 158,
   "metadata": {
    "collapsed": false
   },
   "outputs": [
    {
     "data": {
      "text/plain": [
       "(18.484582121197541, 18.179628991037671)"
      ]
     },
     "execution_count": 158,
     "metadata": {},
     "output_type": "execute_result"
    }
   ],
   "source": [
    "mean_cluster_PSNR, median_cluster_PSNR"
   ]
  }
 ],
 "metadata": {
  "kernelspec": {
   "display_name": "Python 3",
   "language": "python",
   "name": "python3"
  },
  "language_info": {
   "codemirror_mode": {
    "name": "ipython",
    "version": 3
   },
   "file_extension": ".py",
   "mimetype": "text/x-python",
   "name": "python",
   "nbconvert_exporter": "python",
   "pygments_lexer": "ipython3",
   "version": "3.5.1"
  }
 },
 "nbformat": 4,
 "nbformat_minor": 0
}
